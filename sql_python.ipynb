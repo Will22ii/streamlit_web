{
 "cells": [
  {
   "cell_type": "markdown",
   "id": "2d414f35-37ed-4fd5-9b19-8a3c5507ada1",
   "metadata": {},
   "source": [
    "- try catch"
   ]
  },
  {
   "cell_type": "code",
   "execution_count": 2,
   "id": "cb830436-ae93-4266-9319-0a5c515cff71",
   "metadata": {},
   "outputs": [
    {
     "ename": "ZeroDivisionError",
     "evalue": "division by zero",
     "output_type": "error",
     "traceback": [
      "\u001b[1;31m---------------------------------------------------------------------------\u001b[0m",
      "\u001b[1;31mZeroDivisionError\u001b[0m                         Traceback (most recent call last)",
      "Cell \u001b[1;32mIn[2], line 4\u001b[0m\n\u001b[0;32m      1\u001b[0m numerator \u001b[38;5;241m=\u001b[39m \u001b[38;5;241m10\u001b[39m\n\u001b[0;32m      2\u001b[0m denominator \u001b[38;5;241m=\u001b[39m \u001b[38;5;241m0\u001b[39m\n\u001b[1;32m----> 4\u001b[0m result \u001b[38;5;241m=\u001b[39m \u001b[43mnumerator\u001b[49m\u001b[38;5;241;43m/\u001b[39;49m\u001b[43mdenominator\u001b[49m\n\u001b[0;32m      6\u001b[0m \u001b[38;5;66;03m#하고 싶은 것은 결과 확인 출력을 꼭 하고 싶음, 어떤 일이 있어도\u001b[39;00m\n\u001b[0;32m      7\u001b[0m \u001b[38;5;28mprint\u001b[39m(\u001b[38;5;124m'\u001b[39m\u001b[38;5;124m결과 확인\u001b[39m\u001b[38;5;124m'\u001b[39m)\n",
      "\u001b[1;31mZeroDivisionError\u001b[0m: division by zero"
     ]
    }
   ],
   "source": [
    "numerator = 10\n",
    "denominator = 0\n",
    "\n",
    "result = numerator/denominator\n",
    "\n",
    "#하고 싶은 것은 결과 확인 출력을 꼭 하고 싶음, 어떤 일이 있어도\n",
    "print('결과 확인')\n",
    "## 이럴때 try catch를 쓴다"
   ]
  },
  {
   "cell_type": "code",
   "execution_count": 7,
   "id": "5ac565b2-f784-4962-a6c9-907287f878e2",
   "metadata": {},
   "outputs": [
    {
     "name": "stdin",
     "output_type": "stream",
     "text": [
      "숫자 입력란 123\n"
     ]
    },
    {
     "name": "stdout",
     "output_type": "stream",
     "text": [
      "결과확인 :  0.08130081300813008\n",
      "결과 확인\n"
     ]
    }
   ],
   "source": [
    "try:\n",
    "    numerator = 10\n",
    "    denominator = int(input(\"숫자 입려간\"))\n",
    "    result = numerator/denominator\n",
    "except ZeroDivisionError:\n",
    "    print(\"error\")\n",
    "else:\n",
    "    print(\"결과확인 : \", result)\n",
    "finally:\n",
    "    print(\"결과 확인\")\n"
   ]
  },
  {
   "cell_type": "markdown",
   "id": "a28fcfdc-5924-44a0-b2f4-2e34c2a23672",
   "metadata": {},
   "source": [
    "## STEP 1. Connect to Server"
   ]
  },
  {
   "cell_type": "code",
   "execution_count": 10,
   "id": "d6f8ad01-d8df-4b88-beb9-8f6d5e13a5dc",
   "metadata": {},
   "outputs": [
    {
     "name": "stdout",
     "output_type": "stream",
     "text": [
      "Database 객체 : <mysql.connector.connection_cext.CMySQLConnection object at 0x0000017E991C5790>\n"
     ]
    }
   ],
   "source": [
    "import os\n",
    "from mysql import connector\n",
    "\n",
    "PASSWORD = '1234'\n",
    "\n",
    "## 기초문법 중급 레벨 (with vs python  decorator)\n",
    "\n",
    "try:\n",
    "    with connector.connect(\n",
    "        host = 'localhost',\n",
    "        user = 'root',\n",
    "        password = PASSWORD\n",
    "    ) as database:\n",
    "        print(f\"Database 객체 : {database}\")\n",
    "except connector.Error as e:\n",
    "    print(e)"
   ]
  },
  {
   "cell_type": "markdown",
   "id": "3e5d8a91-90cf-458d-8182-cd5a60a73629",
   "metadata": {},
   "source": [
    "## Step 2. Creating DB"
   ]
  },
  {
   "cell_type": "code",
   "execution_count": 14,
   "id": "d394e31b-3c6f-4e3f-b36b-bea55adb05c8",
   "metadata": {},
   "outputs": [
    {
     "name": "stdout",
     "output_type": "stream",
     "text": [
      "Database 객체 : <mysql.connector.connection_cext.CMySQLConnection object at 0x0000017E98C7FE50>\n",
      "('book_ratings',)\n",
      "('classicmodels',)\n",
      "('information_schema',)\n",
      "('instacart',)\n",
      "('mydata',)\n",
      "('mydata2',)\n",
      "('mysql',)\n",
      "('performance_schema',)\n",
      "('sakila',)\n",
      "('sys',)\n",
      "('testdb',)\n",
      "('titanic',)\n",
      "('world',)\n"
     ]
    }
   ],
   "source": [
    "try:\n",
    "    with connector.connect(\n",
    "        host = 'localhost', \n",
    "        user = 'root', \n",
    "        password = PASSWORD\n",
    "    ) as database:\n",
    "        print(f\"Database 객체 : {database}\")\n",
    "        ## cursor = 커서 이게 뭘까\n",
    "        with database.cursor() as cursor:\n",
    "            # 쿼리문 작성\n",
    "            create_db = \"CREATE DATABASE book_ratings;\"\n",
    "            cursor.execute(create_db)\n",
    "\n",
    "            # 생성된 DB 확인 쿼리문 쓰기\n",
    "            show_existing_db = \"SHOW DATABASES;\"\n",
    "            cursor.execute(show_existing_db)\n",
    "            for db in cursor:\n",
    "                print(db)\n",
    "\n",
    "except connector.Error as e:\n",
    "    print(e)"
   ]
  },
  {
   "cell_type": "code",
   "execution_count": 18,
   "id": "815ccbf6-66fb-47ab-add3-9d64e55f7147",
   "metadata": {},
   "outputs": [
    {
     "name": "stdout",
     "output_type": "stream",
     "text": [
      "Database 객체 : <mysql.connector.connection_cext.CMySQLConnection object at 0x0000017E99368C10>\n"
     ]
    }
   ],
   "source": [
    "try:\n",
    "    with connector.connect(\n",
    "        host = 'localhost',\n",
    "        user = 'root',\n",
    "        password = PASSWORD,\n",
    "        database = \"book_ratings\" #이것이 기존 코드와의 차이점\n",
    "    ) as database:\n",
    "        print(f\"Database 객체 : {database}\")\n",
    "except connector.Error as e:\n",
    "    print(e)\n"
   ]
  },
  {
   "cell_type": "markdown",
   "id": "2a0e5b09-8014-4fc7-9150-0fa9f26594d7",
   "metadata": {},
   "source": [
    "## Step 3: Creating Table"
   ]
  },
  {
   "cell_type": "code",
   "execution_count": 19,
   "id": "6e13168b-9219-480f-aaf0-adc5e0baae38",
   "metadata": {},
   "outputs": [
    {
     "name": "stdout",
     "output_type": "stream",
     "text": [
      "Database 객체 : <mysql.connector.connection_cext.CMySQLConnection object at 0x0000017E98C6EDD0>\n",
      "('id', 'int', 'NO', 'PRI', None, 'auto_increment')\n",
      "('title', 'varchar(100)', 'YES', '', None, '')\n",
      "('author', 'varchar(100)', 'YES', '', None, '')\n",
      "('genre', 'varchar(100)', 'YES', '', None, '')\n",
      "('release_year', 'year', 'YES', '', None, '')\n"
     ]
    }
   ],
   "source": [
    "create_books_table = \"\"\"\n",
    "    CREATE TABLE books(\n",
    "        id INT NOT NULL AUTO_INCREMENT PRIMARY KEY,\n",
    "        title VARCHAR(100),\n",
    "        author VARCHAR(100),\n",
    "        genre VARCHAR(100),\n",
    "        release_year YEAR(4)\n",
    "    );\n",
    "\"\"\"\n",
    "\n",
    "try:\n",
    "    with connector.connect(\n",
    "        host = 'localhost',\n",
    "        user = 'root',\n",
    "        password = PASSWORD,\n",
    "        database = \"book_ratings\" #이것이 기존 코드와의 차이점\n",
    "    ) as database:\n",
    "        print(f\"Database 객체 : {database}\")\n",
    "\n",
    "\n",
    "        # cursor object 접근후 , 위 쿼리를 실행\n",
    "        with database.cursor() as cursor:\n",
    "            cursor.execute(create_books_table)\n",
    "            database.commit()\n",
    "\n",
    "            # 테이블 확인 DESCRIBE\n",
    "            describe_books = \"DESCRIBE books;\"\n",
    "            cursor.execute(describe_books)\n",
    "            book_schema = cursor.fetchall()\n",
    "            for column in book_schema:\n",
    "                print(column)\n",
    "except connector.Error as e:\n",
    "    print(e)\n"
   ]
  },
  {
   "cell_type": "markdown",
   "id": "a0c5b4cc-a91f-441e-8c5b-e2e30bfb3fe9",
   "metadata": {},
   "source": [
    "## Step 4. Data Insertion\n",
    "- 하나의 레코드 추가할 떄와 다중 레코드 추가할 때 사용하는 method가 다름"
   ]
  },
  {
   "cell_type": "markdown",
   "id": "afae7ed9-84d2-474f-9ef5-52be1c2eecb0",
   "metadata": {},
   "source": [
    "- 파이썬 ==> MySQL 레코드추가\n",
    "- MYSQL Workbench에서 확인"
   ]
  },
  {
   "cell_type": "code",
   "execution_count": 23,
   "id": "952c6487-d03b-49d5-90f8-f10406894c50",
   "metadata": {},
   "outputs": [
    {
     "name": "stdout",
     "output_type": "stream",
     "text": [
      "Database 객체 : <mysql.connector.connection_cext.CMySQLConnection object at 0x0000017E98C6F250>\n"
     ]
    }
   ],
   "source": [
    "## INSERT INTO 테이블명(컬럼명1, 컬럼명2, 컬럼명3...) Values (%s, %s,...)\n",
    "\n",
    "insert_single_record = \"INSERT INTO books (id, title, author, genre, release_year)\\\n",
    "    VALUES (%s, %s, %s, %s, %s)\"\n",
    "single_record = (\n",
    "    \"1\", \"Choose Yourself! Be Happy, Make Millions, Live the Dream\", \"James Altucher\", \"self-help\", \"2013\"\n",
    "    )\n",
    "\n",
    "try:\n",
    "    with connector.connect(\n",
    "        host = 'localhost',\n",
    "        user = 'root',\n",
    "        password = PASSWORD,\n",
    "        database = \"book_ratings\" \n",
    "    ) as database:\n",
    "        print(f\"Database 객체 : {database}\")\n",
    "\n",
    "\n",
    "        #커서 생성 후, 쿼리실행\n",
    "        with database.cursor() as cursor:\n",
    "            cursor.execute(insert_single_record, single_record)\n",
    "            database.commit()\n",
    "except connector.Error as e:\n",
    "    print(e)"
   ]
  },
  {
   "cell_type": "markdown",
   "id": "64716e4c-0a7f-46c8-83db-0f172ecb64e8",
   "metadata": {},
   "source": [
    "- 다중 레코드를 추가하자"
   ]
  },
  {
   "cell_type": "code",
   "execution_count": 24,
   "id": "7202d3ae-06ed-4eea-83db-ec9319f68289",
   "metadata": {},
   "outputs": [],
   "source": [
    "insert_multiple_records = \"INSERT INTO books (id, title, author, genre, release_year)\\\n",
    "    VALUES (%s, %s, %s, %s, %s)\"\n",
    "multiple_records = [\n",
    "    (\n",
    "        \"2\", \n",
    "        \"Skip the Line: The 10,000 Experiments Rule and Other Surprising Advice for Reaching Your Goals\",\n",
    "        \"James Altucher\",\n",
    "        \"self-help\",\n",
    "        \"2021\"        \n",
    "    ),\n",
    "    (\n",
    "        \"3\",\n",
    "        \"The Power of No: Because One Little Word Can Bring Health, Abundance, and Happiness\",\n",
    "        \"James Altucher\",\n",
    "        \"self-help\",\n",
    "        \"2014\"\n",
    "    ),\n",
    "    (\n",
    "        \"4\",\n",
    "        \"The 48 Laws of Power\",\n",
    "        \"Robert Greene\",\n",
    "        \"self-help\",\n",
    "        \"1998\"\n",
    "    ),\n",
    "    (\n",
    "        \"5\",\n",
    "        \"Mastery\",\n",
    "        \"Robert Greene\",\n",
    "        \"self-help\",\n",
    "        \"2012\"\n",
    "    ),\n",
    "    (\n",
    "        \"6\",\n",
    "        \"The Art of Seduction\",\n",
    "        \"Robert Greene\",\n",
    "        \"self-help\",\n",
    "        \"2001\"\n",
    "    ),\n",
    "]"
   ]
  },
  {
   "cell_type": "code",
   "execution_count": 25,
   "id": "40f2971e-3992-4a27-9dab-127a6b796a09",
   "metadata": {},
   "outputs": [
    {
     "name": "stdout",
     "output_type": "stream",
     "text": [
      "Database 객체 : <mysql.connector.connection_cext.CMySQLConnection object at 0x0000017E99C76910>\n"
     ]
    }
   ],
   "source": [
    "try:\n",
    "    with connector.connect(\n",
    "        host = 'localhost',\n",
    "        user = 'root',\n",
    "        password = PASSWORD,\n",
    "        database = \"book_ratings\" \n",
    "    ) as database:\n",
    "        print(f\"Database 객체 : {database}\")\n",
    "\n",
    "\n",
    "        #커서 생성 후, 쿼리실행\n",
    "        with database.cursor() as cursor:\n",
    "            # cursor.execute(insert_single_record, single_record)\n",
    "            cursor.executemany(insert_multiple_records, multiple_records)\n",
    "            database.commit()\n",
    "except connector.Error as e:\n",
    "    print(e)"
   ]
  },
  {
   "cell_type": "markdown",
   "id": "455898a0-3111-4525-82cf-b862a1a761a9",
   "metadata": {},
   "source": [
    "## Step 5. Selecting Data"
   ]
  },
  {
   "cell_type": "markdown",
   "id": "1a54195e-72d8-4a02-9b27-505054ad4483",
   "metadata": {},
   "source": []
  },
  {
   "cell_type": "code",
   "execution_count": 27,
   "id": "d7edb260-a327-4cf8-9f2d-e2094d5b1a33",
   "metadata": {},
   "outputs": [
    {
     "name": "stdout",
     "output_type": "stream",
     "text": [
      "Database 객체 : <mysql.connector.connection_cext.CMySQLConnection object at 0x0000017E9A145510>\n",
      "('James Altucher', 2013)\n",
      "('James Altucher', 2021)\n",
      "('James Altucher', 2014)\n",
      "('Robert Greene', 1998)\n",
      "('Robert Greene', 2012)\n",
      "('Robert Greene', 2001)\n"
     ]
    }
   ],
   "source": [
    "try:\n",
    "    with connector.connect(\n",
    "        host = 'localhost',\n",
    "        user = 'root',\n",
    "        password = PASSWORD,\n",
    "        database = \"book_ratings\" \n",
    "    ) as database:\n",
    "        print(f\"Database 객체 : {database}\")\n",
    "\n",
    "\n",
    "        #커서 생성 후, 쿼리실행\n",
    "        with database.cursor() as cursor:\n",
    "            #쿼리문 작성\n",
    "            select_cols = \"SELECT author, release_year FROM books;\"\n",
    "            cursor.execute(select_cols)\n",
    "\n",
    "            #데이터 확인\n",
    "            df = cursor.fetchall()\n",
    "            for result in df:\n",
    "                print(result)\n",
    "                \n",
    "except connector.Error as e:\n",
    "    print(e)"
   ]
  },
  {
   "cell_type": "markdown",
   "id": "37d0d7aa-2c27-45b1-98bd-6fc803839022",
   "metadata": {},
   "source": [
    "# SELECT 사용자 정의 함수 만들기\n",
    "- 어떤 테이블을 조회해도 깔끔하게 데이터 프레임으로 만드는 함수를 만드시고, 테스트를 진행해 주세요"
   ]
  },
  {
   "cell_type": "code",
   "execution_count": 31,
   "id": "66b89bad-480d-4d70-9059-43adca722e71",
   "metadata": {},
   "outputs": [
    {
     "name": "stdout",
     "output_type": "stream",
     "text": [
      "Database 객체 : <mysql.connector.connection_cext.CMySQLConnection object at 0x0000017E99CA6710>\n"
     ]
    },
    {
     "data": {
      "text/html": [
       "<div>\n",
       "<style scoped>\n",
       "    .dataframe tbody tr th:only-of-type {\n",
       "        vertical-align: middle;\n",
       "    }\n",
       "\n",
       "    .dataframe tbody tr th {\n",
       "        vertical-align: top;\n",
       "    }\n",
       "\n",
       "    .dataframe thead th {\n",
       "        text-align: right;\n",
       "    }\n",
       "</style>\n",
       "<table border=\"1\" class=\"dataframe\">\n",
       "  <thead>\n",
       "    <tr style=\"text-align: right;\">\n",
       "      <th></th>\n",
       "      <th>id</th>\n",
       "      <th>title</th>\n",
       "      <th>author</th>\n",
       "      <th>genre</th>\n",
       "      <th>release_year</th>\n",
       "    </tr>\n",
       "  </thead>\n",
       "  <tbody>\n",
       "    <tr>\n",
       "      <th>0</th>\n",
       "      <td>1</td>\n",
       "      <td>Choose Yourself! Be Happy, Make Millions, Live...</td>\n",
       "      <td>James Altucher</td>\n",
       "      <td>self-help</td>\n",
       "      <td>2013</td>\n",
       "    </tr>\n",
       "    <tr>\n",
       "      <th>1</th>\n",
       "      <td>2</td>\n",
       "      <td>Skip the Line: The 10,000 Experiments Rule and...</td>\n",
       "      <td>James Altucher</td>\n",
       "      <td>self-help</td>\n",
       "      <td>2021</td>\n",
       "    </tr>\n",
       "    <tr>\n",
       "      <th>2</th>\n",
       "      <td>3</td>\n",
       "      <td>The Power of No: Because One Little Word Can B...</td>\n",
       "      <td>James Altucher</td>\n",
       "      <td>self-help</td>\n",
       "      <td>2014</td>\n",
       "    </tr>\n",
       "    <tr>\n",
       "      <th>3</th>\n",
       "      <td>4</td>\n",
       "      <td>The 48 Laws of Power</td>\n",
       "      <td>Robert Greene</td>\n",
       "      <td>self-help</td>\n",
       "      <td>1998</td>\n",
       "    </tr>\n",
       "    <tr>\n",
       "      <th>4</th>\n",
       "      <td>5</td>\n",
       "      <td>Mastery</td>\n",
       "      <td>Robert Greene</td>\n",
       "      <td>self-help</td>\n",
       "      <td>2012</td>\n",
       "    </tr>\n",
       "    <tr>\n",
       "      <th>5</th>\n",
       "      <td>6</td>\n",
       "      <td>The Art of Seduction</td>\n",
       "      <td>Robert Greene</td>\n",
       "      <td>self-help</td>\n",
       "      <td>2001</td>\n",
       "    </tr>\n",
       "  </tbody>\n",
       "</table>\n",
       "</div>"
      ],
      "text/plain": [
       "   id                                              title          author  \\\n",
       "0   1  Choose Yourself! Be Happy, Make Millions, Live...  James Altucher   \n",
       "1   2  Skip the Line: The 10,000 Experiments Rule and...  James Altucher   \n",
       "2   3  The Power of No: Because One Little Word Can B...  James Altucher   \n",
       "3   4                               The 48 Laws of Power   Robert Greene   \n",
       "4   5                                            Mastery   Robert Greene   \n",
       "5   6                               The Art of Seduction   Robert Greene   \n",
       "\n",
       "       genre  release_year  \n",
       "0  self-help          2013  \n",
       "1  self-help          2021  \n",
       "2  self-help          2014  \n",
       "3  self-help          1998  \n",
       "4  self-help          2012  \n",
       "5  self-help          2001  "
      ]
     },
     "metadata": {},
     "output_type": "display_data"
    },
    {
     "name": "stdout",
     "output_type": "stream",
     "text": [
      "Database 객체 : <mysql.connector.connection_cext.CMySQLConnection object at 0x0000017E99CC7F10>\n"
     ]
    },
    {
     "data": {
      "text/html": [
       "<div>\n",
       "<style scoped>\n",
       "    .dataframe tbody tr th:only-of-type {\n",
       "        vertical-align: middle;\n",
       "    }\n",
       "\n",
       "    .dataframe tbody tr th {\n",
       "        vertical-align: top;\n",
       "    }\n",
       "\n",
       "    .dataframe thead th {\n",
       "        text-align: right;\n",
       "    }\n",
       "</style>\n",
       "<table border=\"1\" class=\"dataframe\">\n",
       "  <thead>\n",
       "    <tr style=\"text-align: right;\">\n",
       "      <th></th>\n",
       "      <th>customerNumber</th>\n",
       "      <th>customerName</th>\n",
       "      <th>contactLastName</th>\n",
       "      <th>contactFirstName</th>\n",
       "      <th>phone</th>\n",
       "      <th>addressLine1</th>\n",
       "      <th>addressLine2</th>\n",
       "      <th>city</th>\n",
       "      <th>state</th>\n",
       "      <th>postalCode</th>\n",
       "      <th>country</th>\n",
       "      <th>salesRepEmployeeNumber</th>\n",
       "      <th>creditLimit</th>\n",
       "    </tr>\n",
       "  </thead>\n",
       "  <tbody>\n",
       "    <tr>\n",
       "      <th>0</th>\n",
       "      <td>103</td>\n",
       "      <td>Atelier graphique</td>\n",
       "      <td>Schmitt</td>\n",
       "      <td>Carine</td>\n",
       "      <td>40.32.2555</td>\n",
       "      <td>54, rue Royale</td>\n",
       "      <td>None</td>\n",
       "      <td>Nantes</td>\n",
       "      <td>None</td>\n",
       "      <td>44000</td>\n",
       "      <td>France</td>\n",
       "      <td>1370.0</td>\n",
       "      <td>21000.00</td>\n",
       "    </tr>\n",
       "    <tr>\n",
       "      <th>1</th>\n",
       "      <td>112</td>\n",
       "      <td>Signal Gift Stores</td>\n",
       "      <td>King</td>\n",
       "      <td>Jean</td>\n",
       "      <td>7025551838</td>\n",
       "      <td>8489 Strong St.</td>\n",
       "      <td>None</td>\n",
       "      <td>Las Vegas</td>\n",
       "      <td>NV</td>\n",
       "      <td>83030</td>\n",
       "      <td>USA</td>\n",
       "      <td>1166.0</td>\n",
       "      <td>71800.00</td>\n",
       "    </tr>\n",
       "    <tr>\n",
       "      <th>2</th>\n",
       "      <td>114</td>\n",
       "      <td>Australian Collectors, Co.</td>\n",
       "      <td>Ferguson</td>\n",
       "      <td>Peter</td>\n",
       "      <td>03 9520 4555</td>\n",
       "      <td>636 St Kilda Road</td>\n",
       "      <td>Level 3</td>\n",
       "      <td>Melbourne</td>\n",
       "      <td>Victoria</td>\n",
       "      <td>3004</td>\n",
       "      <td>Australia</td>\n",
       "      <td>1611.0</td>\n",
       "      <td>117300.00</td>\n",
       "    </tr>\n",
       "    <tr>\n",
       "      <th>3</th>\n",
       "      <td>119</td>\n",
       "      <td>La Rochelle Gifts</td>\n",
       "      <td>Labrune</td>\n",
       "      <td>Janine</td>\n",
       "      <td>40.67.8555</td>\n",
       "      <td>67, rue des Cinquante Otages</td>\n",
       "      <td>None</td>\n",
       "      <td>Nantes</td>\n",
       "      <td>None</td>\n",
       "      <td>44000</td>\n",
       "      <td>France</td>\n",
       "      <td>1370.0</td>\n",
       "      <td>118200.00</td>\n",
       "    </tr>\n",
       "    <tr>\n",
       "      <th>4</th>\n",
       "      <td>121</td>\n",
       "      <td>Baane Mini Imports</td>\n",
       "      <td>Bergulfsen</td>\n",
       "      <td>Jonas</td>\n",
       "      <td>07-98 9555</td>\n",
       "      <td>Erling Skakkes gate 78</td>\n",
       "      <td>None</td>\n",
       "      <td>Stavern</td>\n",
       "      <td>None</td>\n",
       "      <td>4110</td>\n",
       "      <td>Norway</td>\n",
       "      <td>1504.0</td>\n",
       "      <td>81700.00</td>\n",
       "    </tr>\n",
       "    <tr>\n",
       "      <th>...</th>\n",
       "      <td>...</td>\n",
       "      <td>...</td>\n",
       "      <td>...</td>\n",
       "      <td>...</td>\n",
       "      <td>...</td>\n",
       "      <td>...</td>\n",
       "      <td>...</td>\n",
       "      <td>...</td>\n",
       "      <td>...</td>\n",
       "      <td>...</td>\n",
       "      <td>...</td>\n",
       "      <td>...</td>\n",
       "      <td>...</td>\n",
       "    </tr>\n",
       "    <tr>\n",
       "      <th>117</th>\n",
       "      <td>486</td>\n",
       "      <td>Motor Mint Distributors Inc.</td>\n",
       "      <td>Salazar</td>\n",
       "      <td>Rosa</td>\n",
       "      <td>2155559857</td>\n",
       "      <td>11328 Douglas Av.</td>\n",
       "      <td>None</td>\n",
       "      <td>Philadelphia</td>\n",
       "      <td>PA</td>\n",
       "      <td>71270</td>\n",
       "      <td>USA</td>\n",
       "      <td>1323.0</td>\n",
       "      <td>72600.00</td>\n",
       "    </tr>\n",
       "    <tr>\n",
       "      <th>118</th>\n",
       "      <td>487</td>\n",
       "      <td>Signal Collectibles Ltd.</td>\n",
       "      <td>Taylor</td>\n",
       "      <td>Sue</td>\n",
       "      <td>4155554312</td>\n",
       "      <td>2793 Furth Circle</td>\n",
       "      <td>None</td>\n",
       "      <td>Brisbane</td>\n",
       "      <td>CA</td>\n",
       "      <td>94217</td>\n",
       "      <td>USA</td>\n",
       "      <td>1165.0</td>\n",
       "      <td>60300.00</td>\n",
       "    </tr>\n",
       "    <tr>\n",
       "      <th>119</th>\n",
       "      <td>489</td>\n",
       "      <td>Double Decker Gift Stores, Ltd</td>\n",
       "      <td>Smith</td>\n",
       "      <td>Thomas</td>\n",
       "      <td>(171) 555-7555</td>\n",
       "      <td>120 Hanover Sq.</td>\n",
       "      <td>None</td>\n",
       "      <td>London</td>\n",
       "      <td>None</td>\n",
       "      <td>WA1 1DP</td>\n",
       "      <td>UK</td>\n",
       "      <td>1501.0</td>\n",
       "      <td>43300.00</td>\n",
       "    </tr>\n",
       "    <tr>\n",
       "      <th>120</th>\n",
       "      <td>495</td>\n",
       "      <td>Diecast Collectables</td>\n",
       "      <td>Franco</td>\n",
       "      <td>Valarie</td>\n",
       "      <td>6175552555</td>\n",
       "      <td>6251 Ingle Ln.</td>\n",
       "      <td>None</td>\n",
       "      <td>Boston</td>\n",
       "      <td>MA</td>\n",
       "      <td>51003</td>\n",
       "      <td>USA</td>\n",
       "      <td>1188.0</td>\n",
       "      <td>85100.00</td>\n",
       "    </tr>\n",
       "    <tr>\n",
       "      <th>121</th>\n",
       "      <td>496</td>\n",
       "      <td>Kelly's Gift Shop</td>\n",
       "      <td>Snowden</td>\n",
       "      <td>Tony</td>\n",
       "      <td>+64 9 5555500</td>\n",
       "      <td>Arenales 1938 3'A'</td>\n",
       "      <td>None</td>\n",
       "      <td>Auckland</td>\n",
       "      <td>None</td>\n",
       "      <td>None</td>\n",
       "      <td>New Zealand</td>\n",
       "      <td>1612.0</td>\n",
       "      <td>110000.00</td>\n",
       "    </tr>\n",
       "  </tbody>\n",
       "</table>\n",
       "<p>122 rows × 13 columns</p>\n",
       "</div>"
      ],
      "text/plain": [
       "     customerNumber                    customerName contactLastName  \\\n",
       "0               103               Atelier graphique         Schmitt   \n",
       "1               112              Signal Gift Stores            King   \n",
       "2               114      Australian Collectors, Co.        Ferguson   \n",
       "3               119               La Rochelle Gifts         Labrune   \n",
       "4               121              Baane Mini Imports      Bergulfsen   \n",
       "..              ...                             ...             ...   \n",
       "117             486    Motor Mint Distributors Inc.         Salazar   \n",
       "118             487        Signal Collectibles Ltd.          Taylor   \n",
       "119             489  Double Decker Gift Stores, Ltd           Smith   \n",
       "120             495            Diecast Collectables          Franco   \n",
       "121             496               Kelly's Gift Shop         Snowden   \n",
       "\n",
       "    contactFirstName           phone                  addressLine1  \\\n",
       "0            Carine       40.32.2555                54, rue Royale   \n",
       "1               Jean      7025551838               8489 Strong St.   \n",
       "2              Peter    03 9520 4555             636 St Kilda Road   \n",
       "3            Janine       40.67.8555  67, rue des Cinquante Otages   \n",
       "4             Jonas       07-98 9555        Erling Skakkes gate 78   \n",
       "..               ...             ...                           ...   \n",
       "117             Rosa      2155559857             11328 Douglas Av.   \n",
       "118              Sue      4155554312             2793 Furth Circle   \n",
       "119          Thomas   (171) 555-7555               120 Hanover Sq.   \n",
       "120          Valarie      6175552555                6251 Ingle Ln.   \n",
       "121             Tony   +64 9 5555500            Arenales 1938 3'A'   \n",
       "\n",
       "    addressLine2          city     state postalCode      country  \\\n",
       "0           None        Nantes      None      44000       France   \n",
       "1           None     Las Vegas        NV      83030          USA   \n",
       "2        Level 3     Melbourne  Victoria       3004    Australia   \n",
       "3           None        Nantes      None      44000       France   \n",
       "4           None       Stavern      None       4110       Norway   \n",
       "..           ...           ...       ...        ...          ...   \n",
       "117         None  Philadelphia        PA      71270          USA   \n",
       "118         None      Brisbane        CA      94217          USA   \n",
       "119         None        London      None    WA1 1DP           UK   \n",
       "120         None        Boston        MA      51003          USA   \n",
       "121         None    Auckland        None       None  New Zealand   \n",
       "\n",
       "     salesRepEmployeeNumber creditLimit  \n",
       "0                    1370.0    21000.00  \n",
       "1                    1166.0    71800.00  \n",
       "2                    1611.0   117300.00  \n",
       "3                    1370.0   118200.00  \n",
       "4                    1504.0    81700.00  \n",
       "..                      ...         ...  \n",
       "117                  1323.0    72600.00  \n",
       "118                  1165.0    60300.00  \n",
       "119                  1501.0    43300.00  \n",
       "120                  1188.0    85100.00  \n",
       "121                  1612.0   110000.00  \n",
       "\n",
       "[122 rows x 13 columns]"
      ]
     },
     "metadata": {},
     "output_type": "display_data"
    }
   ],
   "source": [
    "import pandas as pd\n",
    "\n",
    "def sql_to_df(table, DB):\n",
    "    try:\n",
    "        with connector.connect(\n",
    "            host = 'localhost',\n",
    "            user = 'root',\n",
    "            password = '1234',\n",
    "            database = f\"{DB}\" \n",
    "        ) as database:\n",
    "            print(f\"Database 객체 : {database}\")\n",
    "    \n",
    "            with database.cursor() as cursor:\n",
    "                #쿼리문 작성\n",
    "                select_cols = f\"SELECT * FROM {table};\"\n",
    "                cursor.execute(select_cols)\n",
    "    \n",
    "                #데이터 확인\n",
    "                rows = cursor.fetchall()\n",
    "                columns = [column[0] for column in cursor.description]\n",
    "                df = pd.DataFrame(rows, columns=columns)\n",
    "                display(df)\n",
    "\n",
    "                    \n",
    "    except connector.Error as e:\n",
    "        print(e)\n",
    "\n",
    "sql_to_df('books', 'book_ratings')\n",
    "sql_to_df('customers', 'classicmodels')"
   ]
  },
  {
   "cell_type": "markdown",
   "id": "3ea07174-015b-4988-a6a6-9ab651af8440",
   "metadata": {},
   "source": [
    "## Step 6. Update and Delete"
   ]
  },
  {
   "cell_type": "code",
   "execution_count": 32,
   "id": "e3e0c53e-2ca4-4a65-8558-a3f99465196d",
   "metadata": {},
   "outputs": [],
   "source": [
    "update_query = \"\"\"\n",
    "    UPDATE \n",
    "        books\n",
    "    SET \n",
    "        author = 'Big J'\n",
    "    WHERE \n",
    "        author = 'James Altucher'\n",
    "\"\"\""
   ]
  },
  {
   "cell_type": "code",
   "execution_count": 35,
   "id": "7f816eea-abcb-4745-862a-cbb40df2ce92",
   "metadata": {},
   "outputs": [
    {
     "name": "stdout",
     "output_type": "stream",
     "text": [
      "Database 객체 : <mysql.connector.connection_cext.CMySQLConnection object at 0x0000017EC118BAD0>\n",
      "('Big J',)\n",
      "('Robert Greene',)\n"
     ]
    }
   ],
   "source": [
    "try:\n",
    "    with connector.connect(\n",
    "        host = 'localhost', \n",
    "        user = 'root', \n",
    "        password = PASSWORD, \n",
    "        database = \"book_ratings\" # 이것이 기존 코드와의 차이점\n",
    "    ) as database:\n",
    "        print(f\"Database 객체 : {database}\")\n",
    "\n",
    "        # 커서 생성 후, 쿼리 실행\n",
    "        with database.cursor() as cursor:\n",
    "            cursor.execute(update_query)\n",
    "            database.commit()\n",
    "\n",
    "            check_query = \"SELECT DISTINCT author FROM books;\"\n",
    "            cursor.execute(check_query)\n",
    "\n",
    "            for result in cursor.fetchall():\n",
    "                print(result)\n",
    "            \n",
    "except connector.Error as e:\n",
    "    print(e)"
   ]
  },
  {
   "cell_type": "markdown",
   "id": "2381846e-c307-42f5-a01e-9351a8ed0195",
   "metadata": {},
   "source": [
    "## Step 7. Set Records"
   ]
  },
  {
   "cell_type": "code",
   "execution_count": 36,
   "id": "8e75a437-7a12-4050-b509-83440e81da33",
   "metadata": {},
   "outputs": [
    {
     "name": "stdout",
     "output_type": "stream",
     "text": [
      "Database 객체 : <mysql.connector.connection_cext.CMySQLConnection object at 0x0000017EC1188A10>\n",
      "(2013,)\n",
      "(2021,)\n",
      "(2014,)\n",
      "(2012,)\n"
     ]
    }
   ],
   "source": [
    "try:\n",
    "    with connector.connect(\n",
    "        host = 'localhost', \n",
    "        user = 'root', \n",
    "        password = PASSWORD, \n",
    "        database = \"book_ratings\" # 이것이 기존 코드와의 차이점\n",
    "    ) as database:\n",
    "        print(f\"Database 객체 : {database}\")\n",
    "\n",
    "        # 커서 생성 후, 쿼리 실행\n",
    "        with database.cursor() as cursor:\n",
    "\n",
    "            delete_query = \"DELETE FROM books WHERE release_year <= 2010;\"\n",
    "            cursor.execute(delete_query)\n",
    "            database.commit()\n",
    "            \n",
    "            check_query = \"SELECT DISTINCT release_year FROM books;\"\n",
    "            cursor.execute(check_query)\n",
    "            \n",
    "            for result in cursor.fetchall():\n",
    "                print(result)\n",
    "            \n",
    "except connector.Error as e:\n",
    "    print(e)"
   ]
  }
 ],
 "metadata": {
  "kernelspec": {
   "display_name": "Python 3 (ipykernel)",
   "language": "python",
   "name": "python3"
  },
  "language_info": {
   "codemirror_mode": {
    "name": "ipython",
    "version": 3
   },
   "file_extension": ".py",
   "mimetype": "text/x-python",
   "name": "python",
   "nbconvert_exporter": "python",
   "pygments_lexer": "ipython3",
   "version": "3.11.7"
  }
 },
 "nbformat": 4,
 "nbformat_minor": 5
}
